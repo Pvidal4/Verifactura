{
  "nbformat": 4,
  "nbformat_minor": 0,
  "metadata": {
    "colab": {
      "provenance": []
    },
    "kernelspec": {
      "name": "python3",
      "display_name": "Python 3"
    },
    "language_info": {
      "name": "python"
    }
  },
  "cells": [
    {
      "cell_type": "code",
      "source": [
        "# Step 0: Load the new dataset robustly (auto-detect delimiter), quick health check,\n",
        "# and prepare it for the CLASE-classification pipeline using preprocessing_pipeline.py\n",
        "\n",
        "import pandas as pd\n",
        "import io, csv, chardet, os, numpy as np\n",
        "\n",
        "path = \"DATASET_2.csv\"\n",
        "\n",
        "# Detect encoding\n",
        "with open(path, \"rb\") as f:\n",
        "    raw = f.read(100_000)\n",
        "enc = chardet.detect(raw)[\"encoding\"] or \"utf-8\"\n",
        "\n",
        "# Peek first lines as text to guess delimiter\n",
        "sample = raw[:4000].decode(enc, errors=\"replace\")\n",
        "# naive delimiter guess\n",
        "delims = [\",\",\";\",\"|\",\"\\t\"]\n",
        "counts = {d: sample.count(d) for d in delims}\n",
        "best_delim = max(counts, key=counts.get)\n",
        "\n",
        "# Try to read with detected delimiter; fallback to python engine for safety\n",
        "try:\n",
        "    df = pd.read_csv(path, sep=best_delim, encoding=enc, engine=\"python\")\n",
        "except Exception:\n",
        "    # Fallback: try common delimiters\n",
        "    for d in [\",\",\";\",\"|\",\"\\t\"]:\n",
        "        try:\n",
        "            df = pd.read_csv(path, sep=d, encoding=enc, engine=\"python\")\n",
        "            best_delim = d\n",
        "            break\n",
        "        except Exception:\n",
        "            df = None\n",
        "    if df is None:\n",
        "        raise\n",
        "\n",
        "shape = df.shape\n",
        "cols = df.columns.tolist()\n",
        "\n",
        "# Basic sanity: trim string columns\n",
        "for c in df.select_dtypes(include=[\"object\"]).columns:\n",
        "    df[c] = df[c].astype(str).str.strip().replace({\"\": np.nan, \"nan\": np.nan, \"NaN\": np.nan, \"None\": np.nan})\n",
        "\n",
        "summary = {\n",
        "    \"encoding\": enc,\n",
        "    \"guessed_delimiter\": repr(best_delim),\n",
        "    \"shape\": shape,\n",
        "    \"n_cols\": len(cols),\n",
        "    \"columns_sample\": cols[:12],\n",
        "    \"missing_by_col_top10\": df.isna().mean().sort_values(ascending=False).head(10).to_dict()\n",
        "}\n",
        "\n",
        "summary\n"
      ],
      "metadata": {
        "colab": {
          "base_uri": "https://localhost:8080/"
        },
        "id": "dox6nBzu4du-",
        "outputId": "5edf24d4-30e3-4bd3-c4ca-64d087c0f116"
      },
      "execution_count": null,
      "outputs": [
        {
          "output_type": "execute_result",
          "data": {
            "text/plain": [
              "{'encoding': 'utf-8',\n",
              " 'guessed_delimiter': \"';'\",\n",
              " 'shape': (27, 30),\n",
              " 'n_cols': 30,\n",
              " 'columns_sample': ['FECHA_DOCUMENTO',\n",
              "  'DIRECCION',\n",
              "  'MODELO_HOMOLOGADO_ANT',\n",
              "  'SUBSIDIO',\n",
              "  'AÑO',\n",
              "  'SUBTOTAL',\n",
              "  'CLASE',\n",
              "  'TOTAL',\n",
              "  'CILINDRAJE',\n",
              "  'MODELO',\n",
              "  'MODELO_REGISTRADO_SRI',\n",
              "  'RAMV_CPN'],\n",
              " 'missing_by_col_top10': {'MODELO_REGISTRADO_SRI': 0.8888888888888888,\n",
              "  'MODELO_HOMOLOGADO_ANT': 0.8518518518518519,\n",
              "  'EJES': 0.8518518518518519,\n",
              "  'RUEDAS': 0.8148148148148148,\n",
              "  'CAPACIDAD': 0.7037037037037037,\n",
              "  'RAMV_CPN': 0.7037037037037037,\n",
              "  'PAIS_ORIGEN': 0.7037037037037037,\n",
              "  'TONELAJE': 0.6666666666666666,\n",
              "  'CILINDRAJE': 0.6666666666666666,\n",
              "  'CLASE': 0.6296296296296297}}"
            ]
          },
          "metadata": {},
          "execution_count": 18
        }
      ]
    },
    {
      "cell_type": "code",
      "source": [
        "# Prepare target 'CLASE' for classification and do a robust stratified split\n",
        "import numpy as np\n",
        "from collections import Counter\n",
        "\n",
        "df0 = df.copy()\n",
        "y_col = \"CLASE\"\n",
        "\n",
        "# Clean target\n",
        "df0[y_col] = df0[y_col].astype(str).str.strip()\n",
        "df0.loc[df0[y_col].isin([\"\", \"nan\", \"NaN\", \"None\", \"NULL\"]), y_col] = np.nan\n",
        "\n",
        "df_sup = df0.dropna(subset=[y_col]).copy()\n",
        "class_counts = df_sup[y_col].value_counts().to_dict()\n",
        "\n",
        "class_counts\n"
      ],
      "metadata": {
        "colab": {
          "base_uri": "https://localhost:8080/"
        },
        "id": "uZ5vB8de4vgD",
        "outputId": "ac194d40-6eb2-40e8-bdc0-495a7f31e93a"
      },
      "execution_count": null,
      "outputs": [
        {
          "output_type": "execute_result",
          "data": {
            "text/plain": [
              "{'CAMION': 3, 'CAMIONETA': 3, 'AUTOMOVIL': 3, 'JEEP': 1}"
            ]
          },
          "metadata": {},
          "execution_count": 19
        }
      ]
    },
    {
      "cell_type": "code",
      "source": [
        "import pandas as pd\n",
        "import numpy as np\n",
        "from sklearn.model_selection import train_test_split\n",
        "from sklearn.compose import ColumnTransformer\n",
        "from sklearn.preprocessing import OneHotEncoder, StandardScaler\n",
        "from sklearn.impute import SimpleImputer\n",
        "from sklearn.pipeline import Pipeline\n",
        "from imblearn.pipeline import Pipeline as ImbPipeline\n",
        "from imblearn.over_sampling import RandomOverSampler\n",
        "\n",
        "# 1) Cargar dataset (ajusta sep/encoding según tu archivo grande)\n",
        "df = pd.read_csv(\"DATASET_2.csv\", sep=\";\", engine=\"python\", encoding=\"utf-8\")\n",
        "\n",
        "# 2) Objetivo\n",
        "y_col = \"CLASE\"\n",
        "\n",
        "# Limpiar strings y target\n",
        "for c in df.select_dtypes(include=[\"object\"]).columns:\n",
        "    df[c] = df[c].astype(str).str.strip().replace({\"\": np.nan, \"nan\": np.nan, \"NaN\": np.nan, \"None\": np.nan, \"NULL\": np.nan})\n",
        "\n",
        "df_sup = df.dropna(subset=[y_col]).copy()\n",
        "\n",
        "# 3) Split 2 vías con manejo de clases raras (≥2 para estratificar)\n",
        "vc = df_sup[y_col].value_counts()\n",
        "rare = vc[vc < 2].index.tolist()\n",
        "df_rare = df_sup[df_sup[y_col].isin(rare)].copy()          # van entero al train\n",
        "df_main = df_sup[~df_sup[y_col].isin(rare)].copy()\n",
        "\n",
        "# Si se puede, estratifica en el split de df_main\n",
        "if len(df_main) >= 2 * df_main[y_col].nunique():\n",
        "    # asegurar al menos 1 por clase en test\n",
        "    test_frac = max(0.2, df_main[y_col].nunique() / len(df_main) + 1e-9)\n",
        "    Xtr_main, Xte_main = train_test_split(\n",
        "        df_main, test_size=test_frac, random_state=42, stratify=df_main[y_col]\n",
        "    )\n",
        "else:\n",
        "    Xtr_main, Xte_main = train_test_split(df_main, test_size=0.2, random_state=42, stratify=None)\n",
        "\n",
        "# Entrenamiento: todo lo de train_main + clases raras\n",
        "train_df = pd.concat([Xtr_main, df_rare], axis=0).sample(frac=1.0, random_state=42).reset_index(drop=True)\n",
        "test_df  = Xte_main.copy().reset_index(drop=True)\n",
        "\n",
        "train_X, train_y = train_df.drop(columns=[y_col]), train_df[y_col]\n",
        "test_X,  test_y  = test_df.drop(columns=[y_col]),  test_df[y_col]\n",
        "\n",
        "print(\"Distribución TRAIN:\", train_y.value_counts().to_dict())\n",
        "print(\"Distribución TEST :\", test_y.value_counts().to_dict())\n",
        "\n",
        "# 4) Pipeline compacto (compatible con tu sklearn)\n",
        "num_cols = train_X.select_dtypes(include=[np.number]).columns.tolist()\n",
        "cat_cols = [c for c in train_X.columns if c not in num_cols]\n",
        "\n",
        "num_pipe = Pipeline([\n",
        "    (\"impute\", SimpleImputer(strategy=\"median\")),\n",
        "    (\"scale\", StandardScaler())\n",
        "])\n",
        "\n",
        "cat_pipe = Pipeline([\n",
        "    (\"impute\", SimpleImputer(strategy=\"most_frequent\")),\n",
        "    (\"ohe\", OneHotEncoder(handle_unknown=\"ignore\"))\n",
        "])\n",
        "\n",
        "prep = ColumnTransformer([\n",
        "    (\"num\", num_pipe, num_cols),\n",
        "    (\"cat\", cat_pipe, cat_cols)\n",
        "])\n",
        "\n",
        "pipe = ImbPipeline([\n",
        "    (\"prep\", prep),\n",
        "    (\"ros\", RandomOverSampler(random_state=42))  # balanceo robusto con pocas muestras\n",
        "])\n",
        "\n",
        "# Fit + transform\n",
        "Xtr, ytr = pipe.fit_resample(train_X, train_y)\n",
        "Xte = pipe.named_steps[\"prep\"].transform(test_X)\n",
        "\n",
        "print(\"Shapes -> Xtr:\", Xtr.shape, \"Xte:\", Xte.shape)\n",
        "print(\"Clases balanceadas en TRAIN:\", pd.Series(ytr).value_counts().to_dict())\n"
      ],
      "metadata": {
        "colab": {
          "base_uri": "https://localhost:8080/"
        },
        "id": "fCQQf4N78H4T",
        "outputId": "dffb3af4-0ca4-435e-9338-f97f86ebacc6"
      },
      "execution_count": null,
      "outputs": [
        {
          "output_type": "stream",
          "name": "stdout",
          "text": [
            "Distribución TRAIN: {'AUTOMOVIL': 2, 'CAMION': 2, 'CAMIONETA': 1, 'JEEP': 1}\n",
            "Distribución TEST : {'CAMIONETA': 2, 'CAMION': 1, 'AUTOMOVIL': 1}\n",
            "Shapes -> Xtr: (8, 97) Xte: (4, 97)\n",
            "Clases balanceadas en TRAIN: {'CAMIONETA': 2, 'AUTOMOVIL': 2, 'JEEP': 2, 'CAMION': 2}\n"
          ]
        },
        {
          "output_type": "stream",
          "name": "stderr",
          "text": [
            "/usr/local/lib/python3.12/dist-packages/sklearn/impute/_base.py:635: UserWarning: Skipping features without any observed values: ['SUBSIDIO']. At least one non-missing value is needed for imputation with strategy='median'.\n",
            "  warnings.warn(\n",
            "/usr/local/lib/python3.12/dist-packages/sklearn/impute/_base.py:635: UserWarning: Skipping features without any observed values: ['SUBSIDIO']. At least one non-missing value is needed for imputation with strategy='median'.\n",
            "  warnings.warn(\n"
          ]
        }
      ]
    },
    {
      "cell_type": "code",
      "source": [
        "import pandas as pd\n",
        "import numpy as np\n",
        "from sklearn.model_selection import train_test_split\n",
        "from sklearn.compose import ColumnTransformer\n",
        "from sklearn.preprocessing import OneHotEncoder, StandardScaler\n",
        "from sklearn.impute import SimpleImputer\n",
        "from sklearn.pipeline import Pipeline\n",
        "from imblearn.pipeline import Pipeline as ImbPipeline\n",
        "from imblearn.over_sampling import RandomOverSampler\n",
        "from sklearn.ensemble import RandomForestClassifier\n",
        "from sklearn.metrics import accuracy_score, f1_score, classification_report, confusion_matrix\n",
        "import matplotlib.pyplot as plt\n",
        "import seaborn as sns\n",
        "\n",
        "# 1) Cargar dataset\n",
        "df = pd.read_csv(\"DATASET_2.csv\", sep=\";\", engine=\"python\", encoding=\"utf-8\")\n",
        "y_col = \"CLASE\"\n",
        "\n",
        "# 2) Limpiar strings y target\n",
        "for c in df.select_dtypes(include=[\"object\"]).columns:\n",
        "    df[c] = df[c].astype(str).str.strip().replace(\n",
        "        {\"\": np.nan, \"nan\": np.nan, \"NaN\": np.nan, \"None\": np.nan, \"NULL\": np.nan}\n",
        "    )\n",
        "\n",
        "df_sup = df.dropna(subset=[y_col]).copy()\n",
        "\n",
        "# 3) Manejo de clases raras\n",
        "vc = df_sup[y_col].value_counts()\n",
        "rare = vc[vc < 2].index.tolist()\n",
        "df_rare = df_sup[df_sup[y_col].isin(rare)].copy()\n",
        "df_main = df_sup[~df_sup[y_col].isin(rare)].copy()\n",
        "\n",
        "# Split\n",
        "if len(df_main) >= 2 * df_main[y_col].nunique():\n",
        "    test_frac = max(0.2, df_main[y_col].nunique() / len(df_main) + 1e-9)\n",
        "    Xtr_main, Xte_main = train_test_split(\n",
        "        df_main, test_size=test_frac, random_state=42, stratify=df_main[y_col]\n",
        "    )\n",
        "else:\n",
        "    Xtr_main, Xte_main = train_test_split(df_main, test_size=0.2, random_state=42)\n",
        "\n",
        "train_df = pd.concat([Xtr_main, df_rare], axis=0).sample(frac=1.0, random_state=42).reset_index(drop=True)\n",
        "test_df  = Xte_main.copy().reset_index(drop=True)\n",
        "\n",
        "train_X, train_y = train_df.drop(columns=[y_col]), train_df[y_col]\n",
        "test_X,  test_y  = test_df.drop(columns=[y_col]),  test_df[y_col]\n",
        "\n",
        "print(\"Distribución TRAIN:\", train_y.value_counts().to_dict())\n",
        "print(\"Distribución TEST :\", test_y.value_counts().to_dict())\n",
        "\n",
        "# 4) Pipeline\n",
        "num_cols = train_X.select_dtypes(include=[np.number]).columns.tolist()\n",
        "cat_cols = [c for c in train_X.columns if c not in num_cols]\n",
        "\n",
        "num_pipe = Pipeline([\n",
        "    (\"impute\", SimpleImputer(strategy=\"median\")),\n",
        "    (\"scale\", StandardScaler())\n",
        "])\n",
        "\n",
        "cat_pipe = Pipeline([\n",
        "    (\"impute\", SimpleImputer(strategy=\"most_frequent\")),\n",
        "    (\"ohe\", OneHotEncoder(handle_unknown=\"ignore\"))  # devuelve sparse\n",
        "])\n",
        "\n",
        "prep = ColumnTransformer([\n",
        "    (\"num\", num_pipe, num_cols),\n",
        "    (\"cat\", cat_pipe, cat_cols)\n",
        "])\n",
        "\n",
        "pipe = ImbPipeline([\n",
        "    (\"prep\", prep),\n",
        "    (\"ros\", RandomOverSampler(random_state=42))\n",
        "])\n",
        "\n",
        "# Fit + transform\n",
        "Xtr, ytr = pipe.fit_resample(train_X, train_y)\n",
        "Xte = pipe.named_steps[\"prep\"].transform(test_X)\n",
        "\n",
        "# 5) Modelo\n",
        "clf = RandomForestClassifier(n_estimators=100, random_state=42)\n",
        "clf.fit(Xtr, ytr)\n",
        "y_pred = clf.predict(Xte)\n",
        "\n",
        "# 6) Métricas\n",
        "print(\"Accuracy:\", accuracy_score(test_y, y_pred))\n",
        "print(\"F1 macro:\", f1_score(test_y, y_pred, average=\"macro\"))\n",
        "print(\"\\nReporte:\\n\", classification_report(test_y, y_pred))\n",
        "\n",
        "# Matriz de confusión\n",
        "cm = confusion_matrix(test_y, y_pred, labels=clf.classes_)\n",
        "plt.figure(figsize=(6,4))\n",
        "sns.heatmap(cm, annot=True, fmt=\"d\", cmap=\"Blues\",\n",
        "            xticklabels=clf.classes_, yticklabels=clf.classes_)\n",
        "plt.xlabel(\"Predicción\")\n",
        "plt.ylabel(\"Real\")\n",
        "plt.title(\"Matriz de confusión - RandomForest\")\n",
        "plt.show()\n"
      ],
      "metadata": {
        "colab": {
          "base_uri": "https://localhost:8080/",
          "height": 757
        },
        "id": "sstg3aGu8tcT",
        "outputId": "32bd2b16-ce9b-46fa-e351-4c522cc06353"
      },
      "execution_count": null,
      "outputs": [
        {
          "output_type": "stream",
          "name": "stdout",
          "text": [
            "Distribución TRAIN: {'AUTOMOVIL': 2, 'CAMION': 2, 'CAMIONETA': 1, 'JEEP': 1}\n",
            "Distribución TEST : {'CAMIONETA': 2, 'CAMION': 1, 'AUTOMOVIL': 1}\n"
          ]
        },
        {
          "output_type": "stream",
          "name": "stderr",
          "text": [
            "/usr/local/lib/python3.12/dist-packages/sklearn/impute/_base.py:635: UserWarning: Skipping features without any observed values: ['SUBSIDIO']. At least one non-missing value is needed for imputation with strategy='median'.\n",
            "  warnings.warn(\n",
            "/usr/local/lib/python3.12/dist-packages/sklearn/impute/_base.py:635: UserWarning: Skipping features without any observed values: ['SUBSIDIO']. At least one non-missing value is needed for imputation with strategy='median'.\n",
            "  warnings.warn(\n"
          ]
        },
        {
          "output_type": "stream",
          "name": "stdout",
          "text": [
            "Accuracy: 0.75\n",
            "F1 macro: 0.7777777777777777\n",
            "\n",
            "Reporte:\n",
            "               precision    recall  f1-score   support\n",
            "\n",
            "   AUTOMOVIL       1.00      1.00      1.00         1\n",
            "      CAMION       0.50      1.00      0.67         1\n",
            "   CAMIONETA       1.00      0.50      0.67         2\n",
            "\n",
            "    accuracy                           0.75         4\n",
            "   macro avg       0.83      0.83      0.78         4\n",
            "weighted avg       0.88      0.75      0.75         4\n",
            "\n"
          ]
        },
        {
          "output_type": "display_data",
          "data": {
            "text/plain": [
              "<Figure size 600x400 with 2 Axes>"
            ],
            "image/png": "[encoded data removed]"
          },
          "metadata": {}
        }
      ]
    }
  ]
}